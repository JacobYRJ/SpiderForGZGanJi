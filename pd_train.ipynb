{
 "cells": [
  {
   "cell_type": "code",
   "execution_count": 59,
   "metadata": {
    "collapsed": false
   },
   "outputs": [],
   "source": [
    "from pandas import DataFrame,Series\n",
    "import pandas as pd\n",
    "import numpy as np\n",
    "import pymysql\n",
    "from sqlalchemy import create_engine\n",
    "import time"
   ]
  },
  {
   "cell_type": "code",
   "execution_count": 31,
   "metadata": {
    "collapsed": false
   },
   "outputs": [
    {
     "name": "stderr",
     "output_type": "stream",
     "text": [
      "d:\\anaconda3\\lib\\site-packages\\ipykernel\\__main__.py:1: ParserWarning: Falling back to the 'python' engine because the 'c' engine does not support sep=None with delim_whitespace=False; you can avoid this warning by specifying engine='python'.\n",
      "  if __name__ == '__main__':\n"
     ]
    }
   ],
   "source": [
    "df = pd.read_csv('gzzhuan.csv',sep=None)"
   ]
  },
  {
   "cell_type": "code",
   "execution_count": 42,
   "metadata": {
    "collapsed": false
   },
   "outputs": [],
   "source": [
    "data = df[(df['fenlei']=='手机')&(df['title'].str.contains('iphone7'))]"
   ]
  },
  {
   "cell_type": "code",
   "execution_count": 57,
   "metadata": {
    "collapsed": false
   },
   "outputs": [],
   "source": [
    "area_list = []\n",
    "for i in df['area']:\n",
    "    area_list.append(i)"
   ]
  },
  {
   "cell_type": "code",
   "execution_count": 58,
   "metadata": {
    "collapsed": false
   },
   "outputs": [
    {
     "name": "stdout",
     "output_type": "stream",
     "text": [
      "['广州天河', '广州萝岗', '广州白云', '广州南沙', '广州番禺', '广州花都', '广州佛山', '广州万盛围', '广州广州周边', '广州黄埔', '广州经济开发区', '广州不明', '广州从化', '广州荔湾', None, '广州东莞', '广州增城', '广州越秀', '广州海珠']\n"
     ]
    }
   ],
   "source": [
    "area_index = list(set(area_list))\n",
    "print(area_index)"
   ]
  },
  {
   "cell_type": "code",
   "execution_count": 68,
   "metadata": {
    "collapsed": false
   },
   "outputs": [
    {
     "name": "stdout",
     "output_type": "stream",
     "text": [
      "                        price  want_person  look_time  area fenlei title\n",
      "3654   美国safety 1st宝宝推车，儿童手推车          NaN        NaN  None   None  None\n",
      "6763                  PC+铝镁合金          NaN        NaN  None   None  None\n",
      "9269                  PC+铝镁合金          NaN        NaN  None   None  None\n",
      "     price  want_person  look_time  area fenlei  \\\n",
      "3756   758          2.0      443.0  广州不明   平板电脑   \n",
      "6663   208          3.0      388.0  广州不明   美容保健   \n",
      "7399   700          0.0       38.0  广州不明     服饰   \n",
      "\n",
      "                                           title  \n",
      "3756  Amazon 亚马逊 Kindle Paperwhite 3 电子书阅读器 白色4G  \n",
      "6663                         nars丝绒唇膏笔do me baby  \n",
      "7399                        转让海淘Samsonite 新秀丽拉杆箱  \n"
     ]
    }
   ],
   "source": [
    "print(df[df['area'].isnull()])\n",
    "print(df[df['area']=='广州不明'])"
   ]
  },
  {
   "cell_type": "code",
   "execution_count": 62,
   "metadata": {
    "collapsed": false
   },
   "outputs": [
    {
     "name": "stdout",
     "output_type": "stream",
     "text": [
      "Empty DataFrame\n",
      "Columns: [price, want_person, look_time, area, fenlei, title]\n",
      "Index: []\n"
     ]
    }
   ],
   "source": [
    "print(df[df['area']==None])"
   ]
  },
  {
   "cell_type": "code",
   "execution_count": 60,
   "metadata": {
    "collapsed": false
   },
   "outputs": [
    {
     "name": "stdout",
     "output_type": "stream",
     "text": [
      "[1975, 220, 2320, 173, 1437, 583, 109, 6, 281, 333, 22, 3, 128, 543, 3, 105, 397, 625, 1027]\n",
      "0.006006002426147461\n"
     ]
    }
   ],
   "source": [
    "time1 = time.time()\n",
    "post_time = []\n",
    "for i in area_index:\n",
    "    post_time.append(area_list.count(i))\n",
    "time2 = time.time()\n",
    "print(post_time)\n",
    "print(time2-time1)"
   ]
  },
  {
   "cell_type": "code",
   "execution_count": 63,
   "metadata": {
    "collapsed": false
   },
   "outputs": [
    {
     "name": "stdout",
     "output_type": "stream",
     "text": [
      "[1975, 220, 2320, 173, 1437, 583, 109, 6, 281, 333, 22, 3, 128, 543, 0, 105, 397, 625, 1027]\n",
      "-0.06906628608703613\n"
     ]
    }
   ],
   "source": [
    "time3 = time.time()\n",
    "post_time = []\n",
    "for i in area_index:\n",
    "    post_time.append(df[df['area']==i].area.count())\n",
    "time4 = time.time()\n",
    "print(post_time)\n",
    "print(time3-time4)"
   ]
  }
 ],
 "metadata": {
  "kernelspec": {
   "display_name": "Python 3",
   "language": "python",
   "name": "python3"
  },
  "language_info": {
   "codemirror_mode": {
    "name": "ipython",
    "version": 3
   },
   "file_extension": ".py",
   "mimetype": "text/x-python",
   "name": "python",
   "nbconvert_exporter": "python",
   "pygments_lexer": "ipython3",
   "version": "3.6.0"
  }
 },
 "nbformat": 4,
 "nbformat_minor": 2
}
