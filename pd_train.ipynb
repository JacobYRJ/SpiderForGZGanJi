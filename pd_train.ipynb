{
 "cells": [
  {
   "cell_type": "code",
   "execution_count": 2,
   "metadata": {},
   "outputs": [],
   "source": [
    "from pandas import DataFrame,Series\n",
    "import pandas as pd\n",
    "import numpy as np\n",
    "import pymysql\n",
    "from sqlalchemy import create_engine\n",
    "import time\n",
    "import pdir\n",
    "from pyecharts import Bar"
   ]
  },
  {
   "cell_type": "code",
   "execution_count": 3,
   "metadata": {},
   "outputs": [
    {
     "name": "stderr",
     "output_type": "stream",
     "text": [
      "d:\\anaconda3\\lib\\site-packages\\ipykernel\\__main__.py:1: ParserWarning: Falling back to the 'python' engine because the 'c' engine does not support sep=None with delim_whitespace=False; you can avoid this warning by specifying engine='python'.\n",
      "  if __name__ == '__main__':\n"
     ]
    }
   ],
   "source": [
    "df = pd.read_csv('gzzhuan.csv',sep=None)"
   ]
  },
  {
   "cell_type": "code",
   "execution_count": 4,
   "metadata": {},
   "outputs": [],
   "source": [
    "data = df[(df['fenlei']=='手机')&(df['title'].str.contains('iphone7'))]"
   ]
  },
  {
   "cell_type": "code",
   "execution_count": 5,
   "metadata": {},
   "outputs": [],
   "source": [
    "area_list = []\n",
    "for i in df['area']:\n",
    "    area_list.append(i)"
   ]
  },
  {
   "cell_type": "code",
   "execution_count": 6,
   "metadata": {},
   "outputs": [
    {
     "name": "stdout",
     "output_type": "stream",
     "text": [
      "['广州白云', '广州佛山', '广州增城', '广州不明', '广州从化', '广州海珠', '广州东莞', '广州番禺', '广州黄埔', '广州经济开发区', '广州天河', '广州荔湾', None, '广州越秀', '广州南沙', '广州花都', '广州万盛围', '广州广州周边', '广州萝岗']\n"
     ]
    }
   ],
   "source": [
    "area_index = list(set(area_list))\n",
    "print(area_index)"
   ]
  },
  {
   "cell_type": "code",
   "execution_count": 7,
   "metadata": {},
   "outputs": [
    {
     "name": "stdout",
     "output_type": "stream",
     "text": [
      "                        price  want_person  look_time  area fenlei title\n",
      "3654   美国safety 1st宝宝推车，儿童手推车          NaN        NaN  None   None  None\n",
      "6763                  PC+铝镁合金          NaN        NaN  None   None  None\n",
      "9269                  PC+铝镁合金          NaN        NaN  None   None  None\n",
      "     price  want_person  look_time  area fenlei  \\\n",
      "3756   758          2.0      443.0  广州不明   平板电脑   \n",
      "6663   208          3.0      388.0  广州不明   美容保健   \n",
      "7399   700          0.0       38.0  广州不明     服饰   \n",
      "\n",
      "                                           title  \n",
      "3756  Amazon 亚马逊 Kindle Paperwhite 3 电子书阅读器 白色4G  \n",
      "6663                         nars丝绒唇膏笔do me baby  \n",
      "7399                        转让海淘Samsonite 新秀丽拉杆箱  \n"
     ]
    }
   ],
   "source": [
    "print(df[df['area'].isnull()])\n",
    "print(df[df['area']=='广州不明'])"
   ]
  },
  {
   "cell_type": "code",
   "execution_count": 8,
   "metadata": {},
   "outputs": [
    {
     "name": "stdout",
     "output_type": "stream",
     "text": [
      "Empty DataFrame\n",
      "Columns: [price, want_person, look_time, area, fenlei, title]\n",
      "Index: []\n"
     ]
    }
   ],
   "source": [
    "print(df[df['area']==None])"
   ]
  },
  {
   "cell_type": "code",
   "execution_count": 9,
   "metadata": {},
   "outputs": [
    {
     "name": "stdout",
     "output_type": "stream",
     "text": [
      "[2320, 109, 397, 3, 128, 1027, 105, 1437, 333, 22, 1975, 543, 3, 625, 173, 583, 6, 281, 220]\n",
      "0.011016607284545898\n"
     ]
    }
   ],
   "source": [
    "time1 = time.time()\n",
    "post_time = []\n",
    "for i in area_index:\n",
    "    post_time.append(area_list.count(i))\n",
    "time2 = time.time()\n",
    "print(post_time)\n",
    "print(time2-time1)"
   ]
  },
  {
   "cell_type": "code",
   "execution_count": 10,
   "metadata": {},
   "outputs": [
    {
     "name": "stdout",
     "output_type": "stream",
     "text": [
      "[2320, 109, 397, 3, 128, 1027, 105, 1437, 333, 22, 1975, 543, 0, 625, 173, 583, 6, 281, 220]\n",
      "0.08356666564941406\n"
     ]
    }
   ],
   "source": [
    "time3 = time.time()\n",
    "post_time = []\n",
    "for i in area_index:\n",
    "    post_time.append(df[df['area']==i].area.count())\n",
    "time4 = time.time()\n",
    "print(post_time)\n",
    "print(time4-time3)"
   ]
  },
  {
   "cell_type": "code",
   "execution_count": 12,
   "metadata": {
    "collapsed": true
   },
   "outputs": [],
   "source": [
    "def test(i):\n",
    "    return df[df['area']==i].area.count()"
   ]
  },
  {
   "cell_type": "code",
   "execution_count": 13,
   "metadata": {},
   "outputs": [
    {
     "name": "stdout",
     "output_type": "stream",
     "text": [
      "[2320, 109, 397, 3, 128, 1027, 105, 1437, 333, 22, 1975, 543, 0, 625, 173, 583, 6, 281, 220]\n",
      "0.08055973052978516\n"
     ]
    }
   ],
   "source": [
    "time5 = time.time()\n",
    "post_time = list(map(test,area_index))\n",
    "time6 = time.time()\n",
    "print(post_time)\n",
    "print(time6-time5)"
   ]
  },
  {
   "cell_type": "code",
   "execution_count": 14,
   "metadata": {},
   "outputs": [
    {
     "name": "stdout",
     "output_type": "stream",
     "text": [
      "[2320, 109, 397, 3, 128, 1027, 105, 1437, 333, 22, 1975, 543, 0, 625, 173, 583, 6, 281, 220]\n",
      "0.09757208824157715\n"
     ]
    }
   ],
   "source": [
    "time7 = time.time()\n",
    "print( list(map(lambda x : df[df['area']==x].area.count(),area_index)) )\n",
    "print(time.time() - time7)"
   ]
  },
  {
   "cell_type": "code",
   "execution_count": 22,
   "metadata": {},
   "outputs": [],
   "source": [
    "index = pd.date_range('1/8/2017',periods=6)\n",
    "df1 = DataFrame(np.random.randn(6),index=index,columns=['val'])\n",
    "df2 = DataFrame(np.random.randn(6),index=index,columns=['val'])"
   ]
  },
  {
   "cell_type": "code",
   "execution_count": 25,
   "metadata": {},
   "outputs": [
    {
     "name": "stdout",
     "output_type": "stream",
     "text": [
      "                 val\n",
      "2017-01-08  0.441205\n",
      "2017-01-09 -0.385486\n",
      "2017-01-10  0.932629\n",
      "2017-01-11 -0.256192\n",
      "2017-01-12 -0.113042\n",
      "------\n",
      "                 val\n",
      "2017-01-08 -2.096789\n",
      "2017-01-09  0.045770\n",
      "2017-01-10 -1.171286\n",
      "2017-01-11 -0.338790\n",
      "2017-01-12  0.038767\n"
     ]
    }
   ],
   "source": [
    "print(df1.head())\n",
    "print('------')\n",
    "print(df2.head())"
   ]
  },
  {
   "cell_type": "code",
   "execution_count": 24,
   "metadata": {},
   "outputs": [
    {
     "data": {
      "text/html": [
       "<div id=\"2017-08-13 14:38:55.493048\" style=\"width:800px; height:400px;\"></div>\n",
       "<script>\n",
       "    require.config({\n",
       "         paths:{\n",
       "            echarts: '//cdn.bootcss.com/echarts/3.6.2/echarts.min',\n",
       "            echartsgl: '//oog4yfyu0.bkt.clouddn.com/echarts-gl',\n",
       "            china: '//echarts.baidu.com/gallery/vendors/echarts/map/js/china',\n",
       "         }\n",
       "    });\n",
       "    require(['echarts', 'echartsgl', 'china'],function(ec){\n",
       "    var myChart = ec.init(document.getElementById('2017-08-13 14:38:55.493048'));\n",
       "               var option =  {\n",
       "    \"title\": [\n",
       "        {\n",
       "            \"text\": \"Bar chart\",\n",
       "            \"subtext\": \"Profit and loss situation\",\n",
       "            \"left\": \"auto\",\n",
       "            \"top\": \"auto\",\n",
       "            \"textStyle\": {\n",
       "                \"color\": \"#000\",\n",
       "                \"fontSize\": 18\n",
       "            },\n",
       "            \"subtextStyle\": {\n",
       "                \"color\": \"#aaa\",\n",
       "                \"fontSize\": 12\n",
       "            }\n",
       "        }\n",
       "    ],\n",
       "    \"toolbox\": {\n",
       "        \"show\": true,\n",
       "        \"orient\": \"vertical\",\n",
       "        \"left\": \"right\",\n",
       "        \"top\": \"center\",\n",
       "        \"feature\": {\n",
       "            \"saveAsImage\": {\n",
       "                \"show\": true\n",
       "            }\n",
       "        }\n",
       "    },\n",
       "    \"_index_flag\": 1792387,\n",
       "    \"tooltip\": {},\n",
       "    \"series\": [\n",
       "        {\n",
       "            \"type\": \"bar\",\n",
       "            \"name\": \"profit\",\n",
       "            \"data\": [\n",
       "                0.44120476546406917,\n",
       "                -0.3854862595060412,\n",
       "                0.9326286852036685,\n",
       "                -0.2561922838431985,\n",
       "                -0.11304152414327558,\n",
       "                -0.5395884340957136\n",
       "            ],\n",
       "            \"stack\": \"\",\n",
       "            \"label\": {\n",
       "                \"normal\": {\n",
       "                    \"show\": false,\n",
       "                    \"position\": \"top\",\n",
       "                    \"textStyle\": {\n",
       "                        \"color\": \"#000\",\n",
       "                        \"fontSize\": 12\n",
       "                    },\n",
       "                    \"formatter\": null\n",
       "                },\n",
       "                \"emphasis\": {\n",
       "                    \"show\": true\n",
       "                }\n",
       "            },\n",
       "            \"markPoint\": {\n",
       "                \"data\": []\n",
       "            },\n",
       "            \"markLine\": {\n",
       "                \"data\": []\n",
       "            },\n",
       "            \"indexflag\": 1792387\n",
       "        },\n",
       "        {\n",
       "            \"type\": \"bar\",\n",
       "            \"name\": \"loss\",\n",
       "            \"data\": [\n",
       "                -2.096789424043852,\n",
       "                0.045769761832748335,\n",
       "                -1.1712857992025203,\n",
       "                -0.3387903156532514,\n",
       "                0.03876728224430099,\n",
       "                1.3181867993555936\n",
       "            ],\n",
       "            \"stack\": \"\",\n",
       "            \"label\": {\n",
       "                \"normal\": {\n",
       "                    \"show\": false,\n",
       "                    \"position\": \"top\",\n",
       "                    \"textStyle\": {\n",
       "                        \"color\": \"#000\",\n",
       "                        \"fontSize\": 12\n",
       "                    },\n",
       "                    \"formatter\": null\n",
       "                },\n",
       "                \"emphasis\": {\n",
       "                    \"show\": true\n",
       "                }\n",
       "            },\n",
       "            \"markPoint\": {\n",
       "                \"data\": []\n",
       "            },\n",
       "            \"markLine\": {\n",
       "                \"data\": []\n",
       "            },\n",
       "            \"indexflag\": 1792387\n",
       "        }\n",
       "    ],\n",
       "    \"legend\": [\n",
       "        {\n",
       "            \"data\": [\n",
       "                \"profit\",\n",
       "                \"loss\"\n",
       "            ],\n",
       "            \"selectedMode\": \"multiple\",\n",
       "            \"show\": true,\n",
       "            \"left\": \"center\",\n",
       "            \"top\": \"top\",\n",
       "            \"orient\": \"horizontal\"\n",
       "        }\n",
       "    ],\n",
       "    \"backgroundColor\": \"#fff\",\n",
       "    \"xAxis\": [\n",
       "        {\n",
       "            \"name\": \"\",\n",
       "            \"nameLocation\": \"middle\",\n",
       "            \"nameGap\": 25,\n",
       "            \"nameTextStyle\": {\n",
       "                \"fontSize\": 14\n",
       "            },\n",
       "            \"axisLabel\": {\n",
       "                \"interval\": \"auto\",\n",
       "                \"rotate\": 0\n",
       "            },\n",
       "            \"min\": null,\n",
       "            \"max\": null,\n",
       "            \"data\": [\n",
       "                \"2017-01-08\",\n",
       "                \"2017-01-09\",\n",
       "                \"2017-01-10\",\n",
       "                \"2017-01-11\",\n",
       "                \"2017-01-12\",\n",
       "                \"2017-01-13\"\n",
       "            ],\n",
       "            \"type\": \"category\"\n",
       "        }\n",
       "    ],\n",
       "    \"yAxis\": [\n",
       "        {\n",
       "            \"name\": \"\",\n",
       "            \"nameLocation\": \"middle\",\n",
       "            \"nameGap\": 25,\n",
       "            \"nameTextStyle\": {\n",
       "                \"fontSize\": 14\n",
       "            },\n",
       "            \"axisLabel\": {\n",
       "                \"formatter\": \"{value} \",\n",
       "                \"rotate\": 0\n",
       "            },\n",
       "            \"min\": null,\n",
       "            \"max\": null,\n",
       "            \"type\": \"value\"\n",
       "        }\n",
       "    ],\n",
       "    \"color\": [\n",
       "        \"#c23531\",\n",
       "        \"#2f4554\",\n",
       "        \"#61a0a8\",\n",
       "        \"#d48265\",\n",
       "        \"#749f83\",\n",
       "        \"#ca8622\",\n",
       "        \"#bda29a\",\n",
       "        \"#6e7074\",\n",
       "        \"#546570\",\n",
       "        \"#c4ccd3\",\n",
       "        \"#f05b72\",\n",
       "        \"#ef5b9c\",\n",
       "        \"#f47920\",\n",
       "        \"#905a3d\",\n",
       "        \"#fab27b\",\n",
       "        \"#2a5caa\",\n",
       "        \"#444693\",\n",
       "        \"#726930\",\n",
       "        \"#b2d235\",\n",
       "        \"#6d8346\",\n",
       "        \"#ac6767\",\n",
       "        \"#1d953f\",\n",
       "        \"#6950a1\",\n",
       "        \"#918597\",\n",
       "        \"#f6f5ec\"\n",
       "    ]\n",
       "};\n",
       "               myChart.setOption(option);\n",
       "    });\n",
       "</script>\n"
      ],
      "text/plain": [
       "<pyecharts.charts.bar.Bar at 0x1d80e189cf8>"
      ]
     },
     "execution_count": 24,
     "metadata": {},
     "output_type": "execute_result"
    }
   ],
   "source": [
    "bar = Bar('Bar chart', 'Profit and loss situation')\n",
    "bar.add('profit', df1.index, df1.val)\n",
    "bar.add('loss', df2.index,  df2.val)\n",
    "bar"
   ]
  }
 ],
 "metadata": {
  "kernelspec": {
   "display_name": "Python 3",
   "language": "python",
   "name": "python3"
  }
 },
 "nbformat": 4,
 "nbformat_minor": 2
}
