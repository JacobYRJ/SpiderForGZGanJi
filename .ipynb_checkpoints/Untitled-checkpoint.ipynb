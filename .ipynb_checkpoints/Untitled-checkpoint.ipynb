{
 "cells": [
  {
   "cell_type": "code",
   "execution_count": 2,
   "metadata": {
    "collapsed": false
   },
   "outputs": [],
   "source": [
    "import pymongo\n",
    "from string import punctuation"
   ]
  },
  {
   "cell_type": "code",
   "execution_count": 15,
   "metadata": {
    "collapsed": false
   },
   "outputs": [],
   "source": [
    "client = pymongo.MongoClient('localhost',27017)\n",
    "gzganji = client['gzganji']\n",
    "item_info = gzganji['item_infoY']"
   ]
  },
  {
   "cell_type": "code",
   "execution_count": 17,
   "metadata": {
    "collapsed": false
   },
   "outputs": [
    {
     "name": "stderr",
     "output_type": "stream",
     "text": [
      "d:\\anaconda3\\lib\\site-packages\\ipykernel\\__main__.py:3: DeprecationWarning: update is deprecated. Use replace_one, update_one or update_many instead.\n",
      "  app.launch_new_instance()\n"
     ]
    }
   ],
   "source": [
    "for i in item_info.find():\n",
    "    area = i['area'].split('-')\n",
    "    item_info.update({'_id':i['_id']},{'$set':{'area':area}})"
   ]
  },
  {
   "cell_type": "code",
   "execution_count": 20,
   "metadata": {
    "collapsed": false
   },
   "outputs": [
    {
     "name": "stdout",
     "output_type": "stream",
     "text": [
      "['广州', '海珠']\n",
      "['广州', '白云']\n",
      "['濮阳', '华龙']\n",
      "['广州', '海珠']\n",
      "['广州', '越秀']\n",
      "['沈阳', '沈阳周边']\n",
      "['广州', '番禺']\n",
      "['广州', '番禺']\n",
      "['广州', '白云']\n",
      "['广州', '天河']\n",
      "['青岛', '黄岛']\n",
      "['六盘水', '盘县']\n",
      "['广州', '白云']\n",
      "['广州', '黄埔']\n",
      "['广州', '黄埔']\n",
      "['广州', '白云']\n",
      "['天津', '河西']\n",
      "['广州', '番禺']\n",
      "['广州', '越秀']\n",
      "['广州', '白云']\n",
      "['广州', '花都']\n",
      "['广州', '增城']\n",
      "['广州', '萝岗']\n",
      "['广州', '广州周边']\n",
      "['广州', '番禺']\n",
      "['石家庄', '裕华']\n",
      "['广州', '花都']\n",
      "['广州', '番禺']\n",
      "['广州', '天河']\n",
      "['广州', '天河']\n",
      "['乌鲁木齐', '天山']\n",
      "['广州', '佛山']\n",
      "['广州', '番禺']\n",
      "['广州', '白云']\n",
      "['广州', '海珠']\n",
      "['广州', '海珠']\n",
      "['广州', '越秀']\n",
      "['广州', '番禺']\n",
      "['广州', '白云']\n",
      "['广州', '番禺']\n",
      "['上海', '黄浦']\n",
      "['广州', '佛山']\n",
      "['广州', '天河']\n",
      "['广州', '白云']\n",
      "['邵阳', '双清']\n",
      "['广州', '番禺']\n",
      "['广州', '海珠']\n",
      "['广州', '白云']\n",
      "['广州', '天河']\n",
      "['广州', '白云']\n",
      "['广州', '白云']\n",
      "['广州', '番禺']\n",
      "['广州', '白云']\n",
      "['天津', '河西']\n",
      "['成都', '双流']\n",
      "['广州', '白云']\n",
      "['广州', '白云']\n",
      "['广州', '天河']\n",
      "['广州', '番禺']\n",
      "['广州', '白云']\n",
      "['广州', '海珠']\n",
      "['上海', '宝山']\n",
      "['广州', '南沙']\n",
      "['广州', '白云']\n",
      "['广州', '海珠']\n",
      "['广州', '天河']\n",
      "['广州', '白云']\n",
      "['广州', '海珠']\n",
      "['西安', '未央']\n",
      "['广州', '番禺']\n",
      "['广州', '海珠']\n",
      "['广州', '番禺']\n",
      "['朝阳', '双塔']\n",
      "['广州', '海珠']\n",
      "['广州', '越秀']\n",
      "['广州', '番禺']\n",
      "['北京', '昌平']\n",
      "['广州', '增城']\n",
      "['广州', '天河']\n",
      "['广州', '海珠']\n",
      "['广州', '海珠']\n",
      "['中山', '沙溪']\n",
      "['广州', '天河']\n",
      "['广州', '越秀']\n",
      "['广州', '天河']\n",
      "['广州', '天河']\n",
      "['广州', '海珠']\n",
      "['广州', '番禺']\n",
      "['广州', '花都']\n",
      "['广州', '天河']\n",
      "['广州', '白云']\n",
      "['广州', '天河']\n",
      "['广州', '天河']\n",
      "['广州', '天河']\n",
      "['广州', '增城']\n",
      "['广州', '番禺']\n",
      "['广州', '白云']\n",
      "['广州', '番禺']\n",
      "['广州', '花都']\n",
      "['广州', '白云']\n"
     ]
    }
   ],
   "source": [
    "for i in item_info.find().limit(100):\n",
    "    print(i['area'])"
   ]
  },
  {
   "cell_type": "code",
   "execution_count": 48,
   "metadata": {
    "collapsed": false
   },
   "outputs": [
    {
     "ename": "SyntaxError",
     "evalue": "invalid character in identifier (<ipython-input-48-7c4385aa88d0>, line 5)",
     "output_type": "error",
     "traceback": [
      "\u001b[0;36m  File \u001b[0;32m\"<ipython-input-48-7c4385aa88d0>\"\u001b[0;36m, line \u001b[0;32m5\u001b[0m\n\u001b[0;31m    if gz[0] == '广州'：\u001b[0m\n\u001b[0m                    ^\u001b[0m\n\u001b[0;31mSyntaxError\u001b[0m\u001b[0;31m:\u001b[0m invalid character in identifier\n"
     ]
    }
   ],
   "source": [
    "area_list=[]\n",
    "for i in item_info.find().limit(10):\n",
    "    gz = i['area']\n",
    "    if gz[0] == '广州'：\n",
    "        if len(gz) == 2:\n",
    "            area_list.append(gz[1])\n",
    "        else:\n",
    "            area_list.append('不明')\n",
    "area_index = list(set(area_list))\n",
    "print(area_index)\n"
   ]
  },
  {
   "cell_type": "code",
   "execution_count": 36,
   "metadata": {
    "collapsed": false
   },
   "outputs": [
    {
     "name": "stdout",
     "output_type": "stream",
     "text": [
      "['广州']\n"
     ]
    }
   ],
   "source": [
    "area_list=[]\n",
    "for i in item_info.find():\n",
    "    if i['area'][0] == '广州':\n",
    "        area_list.append(i['area'][0])\n",
    "area_index = list(set(area_list))\n",
    "print(area_index)"
   ]
  },
  {
   "cell_type": "code",
   "execution_count": 34,
   "metadata": {
    "collapsed": false
   },
   "outputs": [
    {
     "name": "stdout",
     "output_type": "stream",
     "text": [
      "[1, 9, 1, 1, 11, 1, 19, 2, 15, 2, 10, 6, 3, 1, 3, 7, 1, 13, 9, 10, 3, 1, 1, 1, 1, 2, 83, 5, 2, 8, 1, 1, 23, 25, 1, 1, 4, 1, 2, 7, 3, 7, 4, 4, 4, 8, 13, 13, 9699, 26, 3, 7, 15, 1, 2, 4, 1, 2, 1, 3, 37, 1, 2, 15, 8, 3, 4, 2, 7, 1, 3, 9, 14, 9, 31, 2, 2, 5, 2, 1, 10, 1, 1, 1, 5, 3, 1, 2, 13, 4, 1, 6, 2, 114, 3, 3, 2, 8, 2, 1, 2, 3, 1, 2, 3, 5, 8, 6, 2, 4, 7, 3, 1, 37, 5, 18, 2, 2, 2, 5, 5, 4, 12, 4, 1, 2, 1, 3, 4, 2, 5, 6, 1, 1, 37, 11, 5, 1, 2, 2, 20, 2, 5, 2, 3, 2, 1, 1, 3, 1, 1, 7, 2, 18, 7, 9, 1, 5, 1, 9, 1, 2, 2, 3, 3, 12, 5, 3, 2, 3, 5, 7, 14, 1, 3, 1, 4, 1, 60, 1, 6, 11, 2, 6, 24, 1, 1, 2, 8, 8, 26, 5, 53, 3, 2, 3, 8, 34, 2, 13, 2, 37, 1, 3, 1, 5, 1, 42, 11, 2, 6, 11, 3, 1, 38, 101, 5, 12, 4, 5, 2, 8, 21, 3, 14, 15, 10, 2, 1, 2, 10, 20, 1, 2, 3, 1, 1, 83, 6, 23, 1, 40, 4, 2, 5, 3, 18, 7, 3, 3, 1, 5, 197, 9, 2, 2, 7, 26, 1, 1, 3, 3, 2, 2]\n"
     ]
    }
   ],
   "source": [
    "post_times = []\n",
    "for index in area_index:\n",
    "    post_times.append(area_list.count(index))\n",
    "print(post_times)"
   ]
  }
 ],
 "metadata": {
  "kernelspec": {
   "display_name": "Python 3",
   "language": "python",
   "name": "python3"
  },
  "language_info": {
   "codemirror_mode": {
    "name": "ipython",
    "version": 3
   },
   "file_extension": ".py",
   "mimetype": "text/x-python",
   "name": "python",
   "nbconvert_exporter": "python",
   "pygments_lexer": "ipython3",
   "version": "3.6.0"
  }
 },
 "nbformat": 4,
 "nbformat_minor": 2
}
